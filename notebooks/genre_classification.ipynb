{
 "cells": [
  {
   "cell_type": "code",
   "execution_count": null,
   "id": "initial_id",
   "metadata": {
    "collapsed": true,
    "jupyter": {
     "outputs_hidden": true
    }
   },
   "outputs": [],
   "source": [
    "import random\n",
    "\n",
    "from datasets import load_from_disk\n",
    "from transformers import pipeline"
   ]
  },
  {
   "cell_type": "code",
   "execution_count": null,
   "id": "c94453bc1306a0be",
   "metadata": {},
   "outputs": [],
   "source": [
    "dataset_name = 'reviews-with-genre'\n",
    "model_name = 'reviews-with-genre'"
   ]
  },
  {
   "cell_type": "code",
   "execution_count": null,
   "id": "415c6d43378eca26",
   "metadata": {
    "collapsed": false,
    "jupyter": {
     "outputs_hidden": false
    }
   },
   "outputs": [],
   "source": [
    "classifier = pipeline('text-classification', model=f'../models/{model_name}/checkpoint-4699', device='mps',\n",
    "                      top_k=10)"
   ]
  },
  {
   "cell_type": "code",
   "execution_count": null,
   "id": "d9b4442c33d7f7a7",
   "metadata": {
    "collapsed": false,
    "jupyter": {
     "outputs_hidden": false
    }
   },
   "outputs": [],
   "source": [
    "dataset = load_from_disk(f'../datasets/{dataset_name}')['test']"
   ]
  },
  {
   "cell_type": "code",
   "execution_count": null,
   "id": "5db0841cab38caa6",
   "metadata": {
    "collapsed": false,
    "jupyter": {
     "outputs_hidden": false
    }
   },
   "outputs": [],
   "source": [
    "random_number = random.randint(0, (dataset.num_rows - 1))\n",
    "random_row = dataset[random_number]\n",
    "\n",
    "print(random_row)\n",
    "\n",
    "classifier(random_row['text'])"
   ]
  },
  {
   "cell_type": "code",
   "execution_count": null,
   "id": "8995fa2d663f1fad",
   "metadata": {},
   "outputs": [],
   "source": []
  }
 ],
 "metadata": {
  "kernelspec": {
   "display_name": "Python 3 (ipykernel)",
   "language": "python",
   "name": "python3"
  },
  "language_info": {
   "codemirror_mode": {
    "name": "ipython",
    "version": 3
   },
   "file_extension": ".py",
   "mimetype": "text/x-python",
   "name": "python",
   "nbconvert_exporter": "python",
   "pygments_lexer": "ipython3",
   "version": "3.12.7"
  }
 },
 "nbformat": 4,
 "nbformat_minor": 5
}
